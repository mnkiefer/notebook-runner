{
 "cells": [
  {
   "cell_type": "code",
   "execution_count": null,
   "metadata": {},
   "outputs": [],
   "source": [
    "print(\"Hello, world!\")\n",
    "\n",
    "# import py3Dmol\n",
    "# view = py3Dmol.view(query='pdb:1hvr')\n",
    "# view.setStyle({'cartoon':{'color':'spectrum'}})\n",
    "# view"
   ]
  }
 ],
 "metadata": {},
 "nbformat": 4,
 "nbformat_minor": 2
}
